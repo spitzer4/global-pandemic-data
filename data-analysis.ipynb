{
 "cells": [
  {
   "cell_type": "markdown",
   "metadata": {
    "collapsed": true,
    "pycharm": {
     "name": "#%% md\n"
    }
   },
   "source": [
    "## 1. Data Cleaning ##\n",
    "#### COVID-19 Data ####"
   ]
  },
  {
   "cell_type": "code",
   "execution_count": 170,
   "outputs": [],
   "source": [
    "# Import modules\n",
    "import pandas as pd\n",
    "import numpy as np\n",
    "\n",
    "# Create data frame\n",
    "covid_df = pd.read_csv('data/global-covid.csv', index_col=0)\n",
    "\n",
    "# Remove unnecessary columns\n",
    "col_to_drop = ['NewCases', 'NewDeaths', 'TotalRecovered', 'NewRecovered', 'ActiveCases', 'Serious,Critical', 'Tot Cases/1M pop', 'Deaths/1M pop', 'TotalTests', 'Tests/1M pop', 'WHO Region']\n",
    "covid_df.drop(columns=col_to_drop, inplace=True)\n",
    "\n",
    "# Remove Diamond Princess column\n",
    "covid_df.drop('Diamond Princess')\n",
    "\n",
    "# Create a data frame for each continent\n",
    "na_covid_df = covid_df[covid_df.Continent == 'North America']\n",
    "sa_covid_df = covid_df[covid_df.Continent == 'South America']\n",
    "asia_covid_df = covid_df[covid_df.Continent == 'Asia']\n",
    "europe_covid_df = covid_df[covid_df.Continent == 'Europe']\n",
    "africa_covid_df = covid_df[covid_df.Continent == 'Africa']\n",
    "aus_covid_df = covid_df[covid_df.Continent == 'Australia/Oceania']\n",
    "\n",
    "# covid_df\n",
    "# na_covid_df\n",
    "# sa_covid_df\n",
    "# asia_covid_df\n",
    "# europe_covid_df\n",
    "# africa_covid_df\n",
    "# aus_covid_df"
   ],
   "metadata": {
    "collapsed": false,
    "pycharm": {
     "name": "#%%\n"
    }
   }
  },
  {
   "cell_type": "markdown",
   "source": [
    "#### 2009 Global Population Data ####"
   ],
   "metadata": {
    "collapsed": false,
    "pycharm": {
     "name": "#%% md\n"
    }
   }
  },
  {
   "cell_type": "code",
   "execution_count": 171,
   "outputs": [],
   "source": [
    "# Create data frame\n",
    "population_df = pd.read_csv('data/2009-population-by-country.csv')\n",
    "\n",
    "# Remove extra column\n",
    "population_df.drop(columns='Delete', inplace=True)\n",
    "\n",
    "population_df['Population'] = pd.to_numeric(population_df['Population'], errors='coerce')\n",
    "# Population column is in millions, so multiply by 1000000\n",
    "population_df['Population'] = population_df['Population'] * 1000000\n"
   ],
   "metadata": {
    "collapsed": false,
    "pycharm": {
     "name": "#%%\n"
    }
   }
  },
  {
   "cell_type": "markdown",
   "source": [
    "#### H1N1 Data ####"
   ],
   "metadata": {
    "collapsed": false
   }
  },
  {
   "cell_type": "code",
   "execution_count": 172,
   "outputs": [
    {
     "data": {
      "text/plain": "             State/Territory  State reported confirmed cases  Confirmed deaths\n0                    Alabama                            2453                19\n1                     Alaska                            1563                13\n2                    Arizona                            8726               152\n3                   Arkansas                             154                32\n4                 California                           10545               657\n5                   Colorado                            1321                70\n6                Connecticut                            5491                35\n7                   Delaware                             381                 7\n8       District of Columbia                              54                 1\n9                    Florida                            3676               230\n10                   Georgia                            1012                81\n11                    Hawaii                            2221                13\n12                     Idaho                            1171                23\n13                  Illinois                            3387               111\n14                   Indiana                             782                39\n15                      Iowa                             929                41\n16                    Kansas                            1201                29\n17                  Kentucky                            2092                39\n18                 Louisiana                            1876                52\n19                     Maine                            2232                21\n20                  Maryland                            1772                45\n21             Massachusetts                            1979                33\n22                  Michigan                             655                88\n23                 Minnesota                            2220                61\n24               Mississippi                            1292                26\n25                  Missouri                            1523                17\n26                   Montana                             961                19\n27                  Nebraska                             430                15\n28                    Nevada                            5516                44\n29             New Hampshire                             722                10\n30                New Jersey                            1006                42\n31                New Mexico                            1007                58\n32                  New York                            2738               206\n33            North Carolina                             638               107\n34              North Dakota                             650                 2\n35                      Ohio                             227                52\n36                  Oklahoma                             237                44\n37                    Oregon                            1833                79\n38              Pennsylvania                           10940                78\n39              Rhode Island                             203                13\n40            South Carolina                            1634                49\n41              South Dakota                            2081                23\n42                 Tennessee                            1163                57\n43                     Texas                            6128               231\n44                      Utah                             988                48\n45                   Vermont                             404                 3\n46                  Virginia                             327                37\n47                Washington                            1882                99\n48             West Virginia                            1214                22\n49                 Wisconsin                            9579                55\n50                   Wyoming                             725                10\n51            American Samoa                              90                 1\n52                      Guam                             338                 2\n53  Northern Mariana Islands                              71                 0\n54               Puerto Rico                             908                60\n55       U.S. Virgin Islands                              80                 1\n56                     Total                          115428              3402",
      "text/html": "<div>\n<style scoped>\n    .dataframe tbody tr th:only-of-type {\n        vertical-align: middle;\n    }\n\n    .dataframe tbody tr th {\n        vertical-align: top;\n    }\n\n    .dataframe thead th {\n        text-align: right;\n    }\n</style>\n<table border=\"1\" class=\"dataframe\">\n  <thead>\n    <tr style=\"text-align: right;\">\n      <th></th>\n      <th>State/Territory</th>\n      <th>State reported confirmed cases</th>\n      <th>Confirmed deaths</th>\n    </tr>\n  </thead>\n  <tbody>\n    <tr>\n      <th>0</th>\n      <td>Alabama</td>\n      <td>2453</td>\n      <td>19</td>\n    </tr>\n    <tr>\n      <th>1</th>\n      <td>Alaska</td>\n      <td>1563</td>\n      <td>13</td>\n    </tr>\n    <tr>\n      <th>2</th>\n      <td>Arizona</td>\n      <td>8726</td>\n      <td>152</td>\n    </tr>\n    <tr>\n      <th>3</th>\n      <td>Arkansas</td>\n      <td>154</td>\n      <td>32</td>\n    </tr>\n    <tr>\n      <th>4</th>\n      <td>California</td>\n      <td>10545</td>\n      <td>657</td>\n    </tr>\n    <tr>\n      <th>5</th>\n      <td>Colorado</td>\n      <td>1321</td>\n      <td>70</td>\n    </tr>\n    <tr>\n      <th>6</th>\n      <td>Connecticut</td>\n      <td>5491</td>\n      <td>35</td>\n    </tr>\n    <tr>\n      <th>7</th>\n      <td>Delaware</td>\n      <td>381</td>\n      <td>7</td>\n    </tr>\n    <tr>\n      <th>8</th>\n      <td>District of Columbia</td>\n      <td>54</td>\n      <td>1</td>\n    </tr>\n    <tr>\n      <th>9</th>\n      <td>Florida</td>\n      <td>3676</td>\n      <td>230</td>\n    </tr>\n    <tr>\n      <th>10</th>\n      <td>Georgia</td>\n      <td>1012</td>\n      <td>81</td>\n    </tr>\n    <tr>\n      <th>11</th>\n      <td>Hawaii</td>\n      <td>2221</td>\n      <td>13</td>\n    </tr>\n    <tr>\n      <th>12</th>\n      <td>Idaho</td>\n      <td>1171</td>\n      <td>23</td>\n    </tr>\n    <tr>\n      <th>13</th>\n      <td>Illinois</td>\n      <td>3387</td>\n      <td>111</td>\n    </tr>\n    <tr>\n      <th>14</th>\n      <td>Indiana</td>\n      <td>782</td>\n      <td>39</td>\n    </tr>\n    <tr>\n      <th>15</th>\n      <td>Iowa</td>\n      <td>929</td>\n      <td>41</td>\n    </tr>\n    <tr>\n      <th>16</th>\n      <td>Kansas</td>\n      <td>1201</td>\n      <td>29</td>\n    </tr>\n    <tr>\n      <th>17</th>\n      <td>Kentucky</td>\n      <td>2092</td>\n      <td>39</td>\n    </tr>\n    <tr>\n      <th>18</th>\n      <td>Louisiana</td>\n      <td>1876</td>\n      <td>52</td>\n    </tr>\n    <tr>\n      <th>19</th>\n      <td>Maine</td>\n      <td>2232</td>\n      <td>21</td>\n    </tr>\n    <tr>\n      <th>20</th>\n      <td>Maryland</td>\n      <td>1772</td>\n      <td>45</td>\n    </tr>\n    <tr>\n      <th>21</th>\n      <td>Massachusetts</td>\n      <td>1979</td>\n      <td>33</td>\n    </tr>\n    <tr>\n      <th>22</th>\n      <td>Michigan</td>\n      <td>655</td>\n      <td>88</td>\n    </tr>\n    <tr>\n      <th>23</th>\n      <td>Minnesota</td>\n      <td>2220</td>\n      <td>61</td>\n    </tr>\n    <tr>\n      <th>24</th>\n      <td>Mississippi</td>\n      <td>1292</td>\n      <td>26</td>\n    </tr>\n    <tr>\n      <th>25</th>\n      <td>Missouri</td>\n      <td>1523</td>\n      <td>17</td>\n    </tr>\n    <tr>\n      <th>26</th>\n      <td>Montana</td>\n      <td>961</td>\n      <td>19</td>\n    </tr>\n    <tr>\n      <th>27</th>\n      <td>Nebraska</td>\n      <td>430</td>\n      <td>15</td>\n    </tr>\n    <tr>\n      <th>28</th>\n      <td>Nevada</td>\n      <td>5516</td>\n      <td>44</td>\n    </tr>\n    <tr>\n      <th>29</th>\n      <td>New Hampshire</td>\n      <td>722</td>\n      <td>10</td>\n    </tr>\n    <tr>\n      <th>30</th>\n      <td>New Jersey</td>\n      <td>1006</td>\n      <td>42</td>\n    </tr>\n    <tr>\n      <th>31</th>\n      <td>New Mexico</td>\n      <td>1007</td>\n      <td>58</td>\n    </tr>\n    <tr>\n      <th>32</th>\n      <td>New York</td>\n      <td>2738</td>\n      <td>206</td>\n    </tr>\n    <tr>\n      <th>33</th>\n      <td>North Carolina</td>\n      <td>638</td>\n      <td>107</td>\n    </tr>\n    <tr>\n      <th>34</th>\n      <td>North Dakota</td>\n      <td>650</td>\n      <td>2</td>\n    </tr>\n    <tr>\n      <th>35</th>\n      <td>Ohio</td>\n      <td>227</td>\n      <td>52</td>\n    </tr>\n    <tr>\n      <th>36</th>\n      <td>Oklahoma</td>\n      <td>237</td>\n      <td>44</td>\n    </tr>\n    <tr>\n      <th>37</th>\n      <td>Oregon</td>\n      <td>1833</td>\n      <td>79</td>\n    </tr>\n    <tr>\n      <th>38</th>\n      <td>Pennsylvania</td>\n      <td>10940</td>\n      <td>78</td>\n    </tr>\n    <tr>\n      <th>39</th>\n      <td>Rhode Island</td>\n      <td>203</td>\n      <td>13</td>\n    </tr>\n    <tr>\n      <th>40</th>\n      <td>South Carolina</td>\n      <td>1634</td>\n      <td>49</td>\n    </tr>\n    <tr>\n      <th>41</th>\n      <td>South Dakota</td>\n      <td>2081</td>\n      <td>23</td>\n    </tr>\n    <tr>\n      <th>42</th>\n      <td>Tennessee</td>\n      <td>1163</td>\n      <td>57</td>\n    </tr>\n    <tr>\n      <th>43</th>\n      <td>Texas</td>\n      <td>6128</td>\n      <td>231</td>\n    </tr>\n    <tr>\n      <th>44</th>\n      <td>Utah</td>\n      <td>988</td>\n      <td>48</td>\n    </tr>\n    <tr>\n      <th>45</th>\n      <td>Vermont</td>\n      <td>404</td>\n      <td>3</td>\n    </tr>\n    <tr>\n      <th>46</th>\n      <td>Virginia</td>\n      <td>327</td>\n      <td>37</td>\n    </tr>\n    <tr>\n      <th>47</th>\n      <td>Washington</td>\n      <td>1882</td>\n      <td>99</td>\n    </tr>\n    <tr>\n      <th>48</th>\n      <td>West Virginia</td>\n      <td>1214</td>\n      <td>22</td>\n    </tr>\n    <tr>\n      <th>49</th>\n      <td>Wisconsin</td>\n      <td>9579</td>\n      <td>55</td>\n    </tr>\n    <tr>\n      <th>50</th>\n      <td>Wyoming</td>\n      <td>725</td>\n      <td>10</td>\n    </tr>\n    <tr>\n      <th>51</th>\n      <td>American Samoa</td>\n      <td>90</td>\n      <td>1</td>\n    </tr>\n    <tr>\n      <th>52</th>\n      <td>Guam</td>\n      <td>338</td>\n      <td>2</td>\n    </tr>\n    <tr>\n      <th>53</th>\n      <td>Northern Mariana Islands</td>\n      <td>71</td>\n      <td>0</td>\n    </tr>\n    <tr>\n      <th>54</th>\n      <td>Puerto Rico</td>\n      <td>908</td>\n      <td>60</td>\n    </tr>\n    <tr>\n      <th>55</th>\n      <td>U.S. Virgin Islands</td>\n      <td>80</td>\n      <td>1</td>\n    </tr>\n    <tr>\n      <th>56</th>\n      <td>Total</td>\n      <td>115428</td>\n      <td>3402</td>\n    </tr>\n  </tbody>\n</table>\n</div>"
     },
     "execution_count": 172,
     "metadata": {},
     "output_type": "execute_result"
    }
   ],
   "source": [
    "# Create data frames\n",
    "usa_h1n1_df = pd.read_csv('data/usa-swine-flu.csv')\n",
    "europe_h1n1_df = pd.read_csv('data/europe-swine-flu.csv')\n",
    "africa_h1n1_df = pd.read_csv('data/africa-swine-flu.csv')\n",
    "asia_h1n1_df = pd.read_csv('data/asia-swine-flu.csv')\n",
    "sa_h1n1_df = pd.read_csv('data/south-america-swine-flu.csv')\n",
    "\n",
    "# Remove unnecessary columns\n",
    "usa_h1n1_df.drop(columns='State reported hospitalization', inplace=True)\n",
    "\n",
    "# Calculate totals for U.S.\n",
    "usa_cases = usa_h1n1_df['State reported confirmed cases'].sum()\n",
    "usa_deaths = usa_h1n1_df['Confirmed deaths'].sum()\n",
    "usa_totals = {'State/Territory':'Total',\n",
    "                           'State reported confirmed cases':usa_cases,\n",
    "                           'Confirmed deaths':usa_deaths}\n",
    "usa_h1n1_df = usa_h1n1_df.append(usa_totals, ignore_index=True)\n",
    "usa_h1n1_df\n",
    "\n",
    "# Add population column\n",
    "# usa_h1n1_df.merge(population_df, left_on='Country', right_on='Country')\n",
    "\n"
   ],
   "metadata": {
    "collapsed": false,
    "pycharm": {
     "name": "#%%\n"
    }
   }
  },
  {
   "cell_type": "markdown",
   "source": [
    "#### SARS Data ####"
   ],
   "metadata": {
    "collapsed": false
   }
  },
  {
   "cell_type": "code",
   "execution_count": 172,
   "outputs": [],
   "source": [
    "\n",
    "\n"
   ],
   "metadata": {
    "collapsed": false,
    "pycharm": {
     "name": "#%%\n"
    }
   }
  }
 ],
 "metadata": {
  "kernelspec": {
   "display_name": "Python 3",
   "language": "python",
   "name": "python3"
  },
  "language_info": {
   "codemirror_mode": {
    "name": "ipython",
    "version": 2
   },
   "file_extension": ".py",
   "mimetype": "text/x-python",
   "name": "python",
   "nbconvert_exporter": "python",
   "pygments_lexer": "ipython2",
   "version": "2.7.6"
  }
 },
 "nbformat": 4,
 "nbformat_minor": 0
}