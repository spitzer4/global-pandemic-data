{
 "cells": [
  {
   "cell_type": "markdown",
   "metadata": {
    "collapsed": true,
    "pycharm": {
     "name": "#%% md\n"
    }
   },
   "source": [
    "## 1. Data Cleaning ##\n",
    "#### COVID-19 Data ####"
   ]
  },
  {
   "cell_type": "code",
   "execution_count": 1,
   "outputs": [
    {
     "data": {
      "text/plain": "                          Continent  Population  TotalCases  TotalDeaths\nCountry/Region                                                          \nAustralia         Australia/Oceania  25528864.0       19890        255.0\nNew Zealand       Australia/Oceania   5002100.0        1569         22.0\nPapua New Guinea  Australia/Oceania   8963009.0         163          3.0\nFrench Polynesia  Australia/Oceania    281072.0          64          NaN\nFiji              Australia/Oceania    897095.0          27          1.0\nNew Caledonia     Australia/Oceania    285769.0          22          NaN",
      "text/html": "<div>\n<style scoped>\n    .dataframe tbody tr th:only-of-type {\n        vertical-align: middle;\n    }\n\n    .dataframe tbody tr th {\n        vertical-align: top;\n    }\n\n    .dataframe thead th {\n        text-align: right;\n    }\n</style>\n<table border=\"1\" class=\"dataframe\">\n  <thead>\n    <tr style=\"text-align: right;\">\n      <th></th>\n      <th>Continent</th>\n      <th>Population</th>\n      <th>TotalCases</th>\n      <th>TotalDeaths</th>\n    </tr>\n    <tr>\n      <th>Country/Region</th>\n      <th></th>\n      <th></th>\n      <th></th>\n      <th></th>\n    </tr>\n  </thead>\n  <tbody>\n    <tr>\n      <th>Australia</th>\n      <td>Australia/Oceania</td>\n      <td>25528864.0</td>\n      <td>19890</td>\n      <td>255.0</td>\n    </tr>\n    <tr>\n      <th>New Zealand</th>\n      <td>Australia/Oceania</td>\n      <td>5002100.0</td>\n      <td>1569</td>\n      <td>22.0</td>\n    </tr>\n    <tr>\n      <th>Papua New Guinea</th>\n      <td>Australia/Oceania</td>\n      <td>8963009.0</td>\n      <td>163</td>\n      <td>3.0</td>\n    </tr>\n    <tr>\n      <th>French Polynesia</th>\n      <td>Australia/Oceania</td>\n      <td>281072.0</td>\n      <td>64</td>\n      <td>NaN</td>\n    </tr>\n    <tr>\n      <th>Fiji</th>\n      <td>Australia/Oceania</td>\n      <td>897095.0</td>\n      <td>27</td>\n      <td>1.0</td>\n    </tr>\n    <tr>\n      <th>New Caledonia</th>\n      <td>Australia/Oceania</td>\n      <td>285769.0</td>\n      <td>22</td>\n      <td>NaN</td>\n    </tr>\n  </tbody>\n</table>\n</div>"
     },
     "execution_count": 1,
     "metadata": {},
     "output_type": "execute_result"
    }
   ],
   "source": [
    "# Import modules\n",
    "import pandas as pd\n",
    "import numpy as np\n",
    "\n",
    "# Create data frame\n",
    "covid_df = pd.read_csv('data/global-covid.csv', index_col=0)\n",
    "\n",
    "# Remove unnecessary columns\n",
    "col_to_drop = ['NewCases', 'NewDeaths', 'TotalRecovered', 'NewRecovered', 'ActiveCases', 'Serious,Critical', 'Tot Cases/1M pop', 'Deaths/1M pop', 'TotalTests', 'Tests/1M pop', 'WHO Region']\n",
    "covid_df.drop(columns=col_to_drop, inplace=True)\n",
    "\n",
    "# Remove Diamond Princess column\n",
    "covid_df.drop('Diamond Princess')\n",
    "\n",
    "# Create a data frame for each continent\n",
    "na_covid_df = covid_df[covid_df.Continent == 'North America']\n",
    "sa_covid_df = covid_df[covid_df.Continent == 'South America']\n",
    "asia_covid_df = covid_df[covid_df.Continent == 'Asia']\n",
    "europe_covid_df = covid_df[covid_df.Continent == 'Europe']\n",
    "africa_covid_df = covid_df[covid_df.Continent == 'Africa']\n",
    "aus_covid_df = covid_df[covid_df.Continent == 'Australia/Oceania']\n",
    "\n",
    "covid_df\n",
    "na_covid_df\n",
    "sa_covid_df\n",
    "asia_covid_df\n",
    "europe_covid_df\n",
    "africa_covid_df\n",
    "aus_covid_df"
   ],
   "metadata": {
    "collapsed": false,
    "pycharm": {
     "name": "#%%\n"
    }
   }
  },
  {
   "cell_type": "markdown",
   "source": [
    "#### H1N1 Data ####"
   ],
   "metadata": {
    "collapsed": false
   }
  },
  {
   "cell_type": "code",
   "execution_count": null,
   "outputs": [],
   "source": [
    "# Create data frames\n",
    "usa_h1n1_df = pd.read_csv('data/usa-swine-flu.csv')\n",
    "europe_h1n1_df = pd.read_csv('data/europe-swine-flu.csv')\n",
    "africa_h1n1_df = pd.read_csv('data/africa-swine-flu.csv')\n",
    "asia_h1n1_df = pd.read_csv('data/asia-swine-flu.csv')\n",
    "sa_h1n1_df = pd.read_csv('data/south-america-swine-flu.csv')\n",
    "\n",
    "# Add population column\n",
    "\n"
   ],
   "metadata": {
    "collapsed": false,
    "pycharm": {
     "name": "#%%\n"
    }
   }
  },
  {
   "cell_type": "markdown",
   "source": [
    "#### SARS Data ####"
   ],
   "metadata": {
    "collapsed": false
   }
  },
  {
   "cell_type": "code",
   "execution_count": null,
   "outputs": [],
   "source": [
    "\n"
   ],
   "metadata": {
    "collapsed": false,
    "pycharm": {
     "name": "#%%\n"
    }
   }
  }
 ],
 "metadata": {
  "kernelspec": {
   "display_name": "Python 3",
   "language": "python",
   "name": "python3"
  },
  "language_info": {
   "codemirror_mode": {
    "name": "ipython",
    "version": 2
   },
   "file_extension": ".py",
   "mimetype": "text/x-python",
   "name": "python",
   "nbconvert_exporter": "python",
   "pygments_lexer": "ipython2",
   "version": "2.7.6"
  }
 },
 "nbformat": 4,
 "nbformat_minor": 0
}