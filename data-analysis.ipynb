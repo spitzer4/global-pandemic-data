{
 "cells": [
  {
   "cell_type": "markdown",
   "metadata": {
    "collapsed": true,
    "pycharm": {
     "name": "#%% md\n"
    }
   },
   "source": [
    "## 1. Data Cleaning ##\n",
    "#### COVID-19 Data ####"
   ]
  },
  {
   "cell_type": "code",
   "execution_count": 212,
   "outputs": [],
   "source": [
    "# Import modules\n",
    "import pandas as pd\n",
    "import numpy as np\n",
    "\n",
    "# Create data frame\n",
    "covid_df = pd.read_csv('data/global-covid.csv', index_col=0)\n",
    "\n",
    "# Remove unnecessary columns\n",
    "col_to_drop = ['NewCases', 'NewDeaths', 'TotalRecovered', 'NewRecovered', 'ActiveCases', 'Serious,Critical', 'Tot Cases/1M pop', 'Deaths/1M pop', 'TotalTests', 'Tests/1M pop', 'WHO Region']\n",
    "covid_df.drop(columns=col_to_drop, inplace=True)\n",
    "\n",
    "# Remove Diamond Princess column\n",
    "covid_df.drop('Diamond Princess')\n",
    "\n",
    "# Create a data frame for each continent\n",
    "na_covid_df = covid_df[covid_df.Continent == 'North America']\n",
    "sa_covid_df = covid_df[covid_df.Continent == 'South America']\n",
    "asia_covid_df = covid_df[covid_df.Continent == 'Asia']\n",
    "europe_covid_df = covid_df[covid_df.Continent == 'Europe']\n",
    "africa_covid_df = covid_df[covid_df.Continent == 'Africa']\n",
    "aus_covid_df = covid_df[covid_df.Continent == 'Australia/Oceania']\n",
    "\n",
    "# covid_df\n",
    "# na_covid_df\n",
    "# sa_covid_df\n",
    "# asia_covid_df\n",
    "# europe_covid_df\n",
    "# africa_covid_df\n",
    "# aus_covid_df"
   ],
   "metadata": {
    "collapsed": false,
    "pycharm": {
     "name": "#%%\n"
    }
   }
  },
  {
   "cell_type": "markdown",
   "source": [
    "#### 2009 Global Population Data ####"
   ],
   "metadata": {
    "collapsed": false,
    "pycharm": {
     "name": "#%% md\n"
    }
   }
  },
  {
   "cell_type": "code",
   "execution_count": 213,
   "outputs": [],
   "source": [
    "# Create data frame\n",
    "population_df = pd.read_csv('data/2009-population-by-country.csv')\n",
    "\n",
    "# Remove extra column\n",
    "population_df.drop(columns='Delete', inplace=True)\n",
    "\n",
    "population_df['Population'] = pd.to_numeric(population_df['Population'], errors='coerce')\n",
    "# Population column is in millions, so multiply by 1000000\n",
    "population_df['Population'] = population_df['Population'] * 1000000\n"
   ],
   "metadata": {
    "collapsed": false,
    "pycharm": {
     "name": "#%%\n"
    }
   }
  },
  {
   "cell_type": "markdown",
   "source": [
    "#### H1N1 Data ####"
   ],
   "metadata": {
    "collapsed": false
   }
  },
  {
   "cell_type": "code",
   "execution_count": 214,
   "outputs": [
    {
     "data": {
      "text/plain": "             Country  Cumulative no. of lab confirmed cases  \\\n0             Brazil                                  28886   \n1              Chile                                  12252   \n2               Peru                                   9268   \n3          Argentina                                   9119   \n4           Colombia                                   4310   \n5            Uruguay                                   3056   \n6            Bolivia                                   2269   \n7            Ecuador                                   2002   \n8          Venezuela                                   1782   \n9           Paraguay                                    682   \n10     French Guiana                                    191   \n11            Guyana                                     73   \n12          Suriname                                     67   \n13  Falkland Islands                                      7   \n14             Total                                  73964   \n\n    Cumulative no. confirmed deaths  \n0                              1205  \n1                               132  \n2                               221  \n3                               580  \n4                               272  \n5                                33  \n6                                56  \n7                                67  \n8                                91  \n9                                42  \n10                                1  \n11                                0  \n12                                2  \n13                                1  \n14                             2703  ",
      "text/html": "<div>\n<style scoped>\n    .dataframe tbody tr th:only-of-type {\n        vertical-align: middle;\n    }\n\n    .dataframe tbody tr th {\n        vertical-align: top;\n    }\n\n    .dataframe thead th {\n        text-align: right;\n    }\n</style>\n<table border=\"1\" class=\"dataframe\">\n  <thead>\n    <tr style=\"text-align: right;\">\n      <th></th>\n      <th>Country</th>\n      <th>Cumulative no. of lab confirmed cases</th>\n      <th>Cumulative no. confirmed deaths</th>\n    </tr>\n  </thead>\n  <tbody>\n    <tr>\n      <th>0</th>\n      <td>Brazil</td>\n      <td>28886</td>\n      <td>1205</td>\n    </tr>\n    <tr>\n      <th>1</th>\n      <td>Chile</td>\n      <td>12252</td>\n      <td>132</td>\n    </tr>\n    <tr>\n      <th>2</th>\n      <td>Peru</td>\n      <td>9268</td>\n      <td>221</td>\n    </tr>\n    <tr>\n      <th>3</th>\n      <td>Argentina</td>\n      <td>9119</td>\n      <td>580</td>\n    </tr>\n    <tr>\n      <th>4</th>\n      <td>Colombia</td>\n      <td>4310</td>\n      <td>272</td>\n    </tr>\n    <tr>\n      <th>5</th>\n      <td>Uruguay</td>\n      <td>3056</td>\n      <td>33</td>\n    </tr>\n    <tr>\n      <th>6</th>\n      <td>Bolivia</td>\n      <td>2269</td>\n      <td>56</td>\n    </tr>\n    <tr>\n      <th>7</th>\n      <td>Ecuador</td>\n      <td>2002</td>\n      <td>67</td>\n    </tr>\n    <tr>\n      <th>8</th>\n      <td>Venezuela</td>\n      <td>1782</td>\n      <td>91</td>\n    </tr>\n    <tr>\n      <th>9</th>\n      <td>Paraguay</td>\n      <td>682</td>\n      <td>42</td>\n    </tr>\n    <tr>\n      <th>10</th>\n      <td>French Guiana</td>\n      <td>191</td>\n      <td>1</td>\n    </tr>\n    <tr>\n      <th>11</th>\n      <td>Guyana</td>\n      <td>73</td>\n      <td>0</td>\n    </tr>\n    <tr>\n      <th>12</th>\n      <td>Suriname</td>\n      <td>67</td>\n      <td>2</td>\n    </tr>\n    <tr>\n      <th>13</th>\n      <td>Falkland Islands</td>\n      <td>7</td>\n      <td>1</td>\n    </tr>\n    <tr>\n      <th>14</th>\n      <td>Total</td>\n      <td>73964</td>\n      <td>2703</td>\n    </tr>\n  </tbody>\n</table>\n</div>"
     },
     "execution_count": 214,
     "metadata": {},
     "output_type": "execute_result"
    }
   ],
   "source": [
    "# Create data frames\n",
    "usa_h1n1_df = pd.read_csv('data/usa-swine-flu.csv')\n",
    "europe_h1n1_df = pd.read_csv('data/europe-swine-flu.csv')\n",
    "africa_h1n1_df = pd.read_csv('data/africa-swine-flu.csv')\n",
    "asia_h1n1_df = pd.read_csv('data/asia-swine-flu.csv')\n",
    "sa_h1n1_df = pd.read_csv('data/south-america-swine-flu.csv')\n",
    "\n",
    "# Remove unnecessary columns\n",
    "usa_h1n1_df.drop(columns='State reported hospitalization', inplace=True)\n",
    "sa_h1n1_df.drop(columns='Estimated no. of cases', inplace=True)\n",
    "\n",
    "# Calculate totals for U.S.\n",
    "usa_cases = usa_h1n1_df['State reported confirmed cases'].sum()\n",
    "usa_deaths = usa_h1n1_df['Confirmed deaths'].sum()\n",
    "usa_totals = {'State/Territory':'Total',\n",
    "                           'State reported confirmed cases':usa_cases,\n",
    "                           'Confirmed deaths':usa_deaths}\n",
    "usa_h1n1_df = usa_h1n1_df.append(usa_totals, ignore_index=True)\n",
    "\n",
    "# Calculate totals for Europe\n",
    "europe_cases = europe_h1n1_df['Cumulative no. of lab confirmed cases'].sum()\n",
    "europe_deaths = europe_h1n1_df['Cumulative no. confirmed deaths'].sum()\n",
    "europe_totals = {'Country':'Total',\n",
    "                           'Cumulative no. of lab confirmed cases':europe_cases,\n",
    "                           'Cumulative no. confirmed deaths':europe_deaths}\n",
    "europe_h1n1_df = europe_h1n1_df.append(europe_totals, ignore_index=True)\n",
    "\n",
    "#Calculate totals for Africa\n",
    "africa_cases = africa_h1n1_df['Cumulative no. of lab confirmed cases'].sum()\n",
    "africa_deaths = africa_h1n1_df['Cumulative no. confirmed deaths'].sum()\n",
    "africa_totals = {'Country':'Total',\n",
    "                           'Cumulative no. of lab confirmed cases':africa_cases,\n",
    "                           'Cumulative no. confirmed deaths':africa_deaths}\n",
    "africa_h1n1_df = africa_h1n1_df.append(africa_totals, ignore_index=True)\n",
    "\n",
    "# Calculate totals for Asia\n",
    "asia_cases = asia_h1n1_df['Cumulative no. of lab confirmed cases'].sum()\n",
    "asia_deaths = asia_h1n1_df['Cumulative no. confirmed deaths'].sum()\n",
    "asia_totals = {'Country':'Total',\n",
    "                           'Cumulative no. of lab confirmed cases':asia_cases,\n",
    "                           'Cumulative no. confirmed deaths':asia_deaths}\n",
    "asia_h1n1_df = asia_h1n1_df.append(europe_totals, ignore_index=True)\n",
    "asia_h1n1_df\n",
    "\n",
    "# Calculate totals for South America\n",
    "sa_cases = sa_h1n1_df['Cumulative no. of lab confirmed cases'].sum()\n",
    "sa_deaths = sa_h1n1_df['Cumulative no. confirmed deaths'].sum()\n",
    "sa_totals = {'Country':'Total',\n",
    "                           'Cumulative no. of lab confirmed cases':sa_cases,\n",
    "                           'Cumulative no. confirmed deaths':sa_deaths}\n",
    "sa_h1n1_df = sa_h1n1_df.append(sa_totals, ignore_index=True)\n",
    "sa_h1n1_df\n",
    "\n",
    "# Add population column\n"
   ],
   "metadata": {
    "collapsed": false,
    "pycharm": {
     "name": "#%%\n"
    }
   }
  },
  {
   "cell_type": "markdown",
   "source": [
    "#### SARS Data ####"
   ],
   "metadata": {
    "collapsed": false
   }
  },
  {
   "cell_type": "code",
   "execution_count": 214,
   "outputs": [],
   "source": [
    "\n",
    "\n"
   ],
   "metadata": {
    "collapsed": false,
    "pycharm": {
     "name": "#%%\n"
    }
   }
  }
 ],
 "metadata": {
  "kernelspec": {
   "display_name": "Python 3",
   "language": "python",
   "name": "python3"
  },
  "language_info": {
   "codemirror_mode": {
    "name": "ipython",
    "version": 2
   },
   "file_extension": ".py",
   "mimetype": "text/x-python",
   "name": "python",
   "nbconvert_exporter": "python",
   "pygments_lexer": "ipython2",
   "version": "2.7.6"
  }
 },
 "nbformat": 4,
 "nbformat_minor": 0
}