{
 "cells": [
  {
   "cell_type": "markdown",
   "source": [
    "*1. Data Cleaning*"
   ],
   "metadata": {
    "collapsed": false
   }
  },
  {
   "cell_type": "code",
   "execution_count": 4,
   "outputs": [
    {
     "data": {
      "text/plain": "                Total Cases  Total Deaths  Total Recovered  Active Cases  \\\nState                                                                      \nCalifornia          3803789         63190        2065555.0     1675044.0   \nTexas               2979334         52169        2871132.0       56033.0   \nFlorida             2346153         37265        2009593.0      299295.0   \nNew York            2163931         53876        1822940.0      287115.0   \nIllinois            1387760         25490        1332924.0       29346.0   \nPennsylvania        1213374         27602        1160335.0       25437.0   \nGeorgia             1128870         21158        1026150.0       81562.0   \nOhio                1107225         20091        1076774.0       10360.0   \nNew Jersey          1019794         26334         947404.0       46056.0   \nNorth Carolina      1008926         13292         989649.0        5985.0   \nMichigan             997375         20787         852204.0      124384.0   \nArizona              887146         17768         855678.0       13700.0   \nTennessee            865085         12498         850068.0        2519.0   \nIndiana              749532         13746         723960.0       11826.0   \nMassachusetts        708933         17947         688350.0        2636.0   \nVirginia             677812         11318          56807.0      609687.0   \nWisconsin            676276          8015              0.0           0.0   \nMissouri             606285          9846         550663.0       45776.0   \nMinnesota            603876          7595         594956.0        1325.0   \nSouth Carolina       595201          9790         557477.0       27934.0   \nColorado             551328          6856         438474.0      105998.0   \nAlabama              547873         11274              0.0           0.0   \nLouisiana            475908         10655              0.0           0.0   \nKentucky             462432          7163          53221.0      402048.0   \nMaryland             461325          9688          10804.0      440833.0   \nOklahoma             454884          7325         446345.0        1214.0   \nWashington           447161          5827         219887.0      221447.0   \nUtah                 409727          2323         401976.0        5428.0   \nIowa                 403240          6102         363865.0       33273.0   \nConnecticut          348465          8263         335697.0        4505.0   \nArkansas             344067          5863         336107.0        2097.0   \nNevada               327579          5626         307858.0       14095.0   \nMississippi          319381          7354         309178.0        2849.0   \nKansas               316014          5125         305843.0        5046.0   \nNebraska             223847          2258              0.0           0.0   \nOregon               205154          2730         182144.0       20280.0   \nNew Mexico           204271          4302         192338.0        7631.0   \nIdaho                193743          2116         113328.0       78299.0   \nWest Virginia        163144          2853         157492.0        2799.0   \nRhode Island         152273          2722           9358.0      140193.0   \nSouth Dakota         124356          2026         122155.0         175.0   \nMontana              112850          1643         110629.0         578.0   \nNorth Dakota         110440          1520         108634.0         286.0   \nDelaware             109379          1679         106061.0        1639.0   \nNew Hampshire         99143          1363          97500.0         280.0   \nMaine                 68603           845              0.0           0.0   \nAlaska                67885           366          63292.0        4227.0   \nWyoming               61234           725          60072.0         437.0   \nHawaii                37067           506              0.0           0.0   \nVermont               24331           256          23723.0         352.0   \n\n                Population  \nState                       \nCalifornia        39512223  \nTexas             28995881  \nFlorida           21477737  \nNew York          19453561  \nIllinois          12671821  \nPennsylvania      12801989  \nGeorgia           10617423  \nOhio              11689100  \nNew Jersey         8882190  \nNorth Carolina    10488084  \nMichigan           9986857  \nArizona            7278717  \nTennessee          6829174  \nIndiana            6732219  \nMassachusetts      6892503  \nVirginia           8535519  \nWisconsin          5822434  \nMissouri           6137428  \nMinnesota          5639632  \nSouth Carolina     5148714  \nColorado           5758736  \nAlabama            4903185  \nLouisiana          4648794  \nKentucky           4467673  \nMaryland           6045680  \nOklahoma           3956971  \nWashington         7614893  \nUtah               3205958  \nIowa               3155070  \nConnecticut        3565287  \nArkansas           3017804  \nNevada             3080156  \nMississippi        2976149  \nKansas             2913314  \nNebraska           1934408  \nOregon             4217737  \nNew Mexico         2096829  \nIdaho              1787065  \nWest Virginia      1792147  \nRhode Island       1059361  \nSouth Dakota        884659  \nMontana            1068778  \nNorth Dakota        762062  \nDelaware            973764  \nNew Hampshire      1359711  \nMaine              1344212  \nAlaska              731545  \nWyoming             578759  \nHawaii             1415872  \nVermont             623989  ",
      "text/html": "<div>\n<style scoped>\n    .dataframe tbody tr th:only-of-type {\n        vertical-align: middle;\n    }\n\n    .dataframe tbody tr th {\n        vertical-align: top;\n    }\n\n    .dataframe thead th {\n        text-align: right;\n    }\n</style>\n<table border=\"1\" class=\"dataframe\">\n  <thead>\n    <tr style=\"text-align: right;\">\n      <th></th>\n      <th>Total Cases</th>\n      <th>Total Deaths</th>\n      <th>Total Recovered</th>\n      <th>Active Cases</th>\n      <th>Population</th>\n    </tr>\n    <tr>\n      <th>State</th>\n      <th></th>\n      <th></th>\n      <th></th>\n      <th></th>\n      <th></th>\n    </tr>\n  </thead>\n  <tbody>\n    <tr>\n      <th>California</th>\n      <td>3803789</td>\n      <td>63190</td>\n      <td>2065555.0</td>\n      <td>1675044.0</td>\n      <td>39512223</td>\n    </tr>\n    <tr>\n      <th>Texas</th>\n      <td>2979334</td>\n      <td>52169</td>\n      <td>2871132.0</td>\n      <td>56033.0</td>\n      <td>28995881</td>\n    </tr>\n    <tr>\n      <th>Florida</th>\n      <td>2346153</td>\n      <td>37265</td>\n      <td>2009593.0</td>\n      <td>299295.0</td>\n      <td>21477737</td>\n    </tr>\n    <tr>\n      <th>New York</th>\n      <td>2163931</td>\n      <td>53876</td>\n      <td>1822940.0</td>\n      <td>287115.0</td>\n      <td>19453561</td>\n    </tr>\n    <tr>\n      <th>Illinois</th>\n      <td>1387760</td>\n      <td>25490</td>\n      <td>1332924.0</td>\n      <td>29346.0</td>\n      <td>12671821</td>\n    </tr>\n    <tr>\n      <th>Pennsylvania</th>\n      <td>1213374</td>\n      <td>27602</td>\n      <td>1160335.0</td>\n      <td>25437.0</td>\n      <td>12801989</td>\n    </tr>\n    <tr>\n      <th>Georgia</th>\n      <td>1128870</td>\n      <td>21158</td>\n      <td>1026150.0</td>\n      <td>81562.0</td>\n      <td>10617423</td>\n    </tr>\n    <tr>\n      <th>Ohio</th>\n      <td>1107225</td>\n      <td>20091</td>\n      <td>1076774.0</td>\n      <td>10360.0</td>\n      <td>11689100</td>\n    </tr>\n    <tr>\n      <th>New Jersey</th>\n      <td>1019794</td>\n      <td>26334</td>\n      <td>947404.0</td>\n      <td>46056.0</td>\n      <td>8882190</td>\n    </tr>\n    <tr>\n      <th>North Carolina</th>\n      <td>1008926</td>\n      <td>13292</td>\n      <td>989649.0</td>\n      <td>5985.0</td>\n      <td>10488084</td>\n    </tr>\n    <tr>\n      <th>Michigan</th>\n      <td>997375</td>\n      <td>20787</td>\n      <td>852204.0</td>\n      <td>124384.0</td>\n      <td>9986857</td>\n    </tr>\n    <tr>\n      <th>Arizona</th>\n      <td>887146</td>\n      <td>17768</td>\n      <td>855678.0</td>\n      <td>13700.0</td>\n      <td>7278717</td>\n    </tr>\n    <tr>\n      <th>Tennessee</th>\n      <td>865085</td>\n      <td>12498</td>\n      <td>850068.0</td>\n      <td>2519.0</td>\n      <td>6829174</td>\n    </tr>\n    <tr>\n      <th>Indiana</th>\n      <td>749532</td>\n      <td>13746</td>\n      <td>723960.0</td>\n      <td>11826.0</td>\n      <td>6732219</td>\n    </tr>\n    <tr>\n      <th>Massachusetts</th>\n      <td>708933</td>\n      <td>17947</td>\n      <td>688350.0</td>\n      <td>2636.0</td>\n      <td>6892503</td>\n    </tr>\n    <tr>\n      <th>Virginia</th>\n      <td>677812</td>\n      <td>11318</td>\n      <td>56807.0</td>\n      <td>609687.0</td>\n      <td>8535519</td>\n    </tr>\n    <tr>\n      <th>Wisconsin</th>\n      <td>676276</td>\n      <td>8015</td>\n      <td>0.0</td>\n      <td>0.0</td>\n      <td>5822434</td>\n    </tr>\n    <tr>\n      <th>Missouri</th>\n      <td>606285</td>\n      <td>9846</td>\n      <td>550663.0</td>\n      <td>45776.0</td>\n      <td>6137428</td>\n    </tr>\n    <tr>\n      <th>Minnesota</th>\n      <td>603876</td>\n      <td>7595</td>\n      <td>594956.0</td>\n      <td>1325.0</td>\n      <td>5639632</td>\n    </tr>\n    <tr>\n      <th>South Carolina</th>\n      <td>595201</td>\n      <td>9790</td>\n      <td>557477.0</td>\n      <td>27934.0</td>\n      <td>5148714</td>\n    </tr>\n    <tr>\n      <th>Colorado</th>\n      <td>551328</td>\n      <td>6856</td>\n      <td>438474.0</td>\n      <td>105998.0</td>\n      <td>5758736</td>\n    </tr>\n    <tr>\n      <th>Alabama</th>\n      <td>547873</td>\n      <td>11274</td>\n      <td>0.0</td>\n      <td>0.0</td>\n      <td>4903185</td>\n    </tr>\n    <tr>\n      <th>Louisiana</th>\n      <td>475908</td>\n      <td>10655</td>\n      <td>0.0</td>\n      <td>0.0</td>\n      <td>4648794</td>\n    </tr>\n    <tr>\n      <th>Kentucky</th>\n      <td>462432</td>\n      <td>7163</td>\n      <td>53221.0</td>\n      <td>402048.0</td>\n      <td>4467673</td>\n    </tr>\n    <tr>\n      <th>Maryland</th>\n      <td>461325</td>\n      <td>9688</td>\n      <td>10804.0</td>\n      <td>440833.0</td>\n      <td>6045680</td>\n    </tr>\n    <tr>\n      <th>Oklahoma</th>\n      <td>454884</td>\n      <td>7325</td>\n      <td>446345.0</td>\n      <td>1214.0</td>\n      <td>3956971</td>\n    </tr>\n    <tr>\n      <th>Washington</th>\n      <td>447161</td>\n      <td>5827</td>\n      <td>219887.0</td>\n      <td>221447.0</td>\n      <td>7614893</td>\n    </tr>\n    <tr>\n      <th>Utah</th>\n      <td>409727</td>\n      <td>2323</td>\n      <td>401976.0</td>\n      <td>5428.0</td>\n      <td>3205958</td>\n    </tr>\n    <tr>\n      <th>Iowa</th>\n      <td>403240</td>\n      <td>6102</td>\n      <td>363865.0</td>\n      <td>33273.0</td>\n      <td>3155070</td>\n    </tr>\n    <tr>\n      <th>Connecticut</th>\n      <td>348465</td>\n      <td>8263</td>\n      <td>335697.0</td>\n      <td>4505.0</td>\n      <td>3565287</td>\n    </tr>\n    <tr>\n      <th>Arkansas</th>\n      <td>344067</td>\n      <td>5863</td>\n      <td>336107.0</td>\n      <td>2097.0</td>\n      <td>3017804</td>\n    </tr>\n    <tr>\n      <th>Nevada</th>\n      <td>327579</td>\n      <td>5626</td>\n      <td>307858.0</td>\n      <td>14095.0</td>\n      <td>3080156</td>\n    </tr>\n    <tr>\n      <th>Mississippi</th>\n      <td>319381</td>\n      <td>7354</td>\n      <td>309178.0</td>\n      <td>2849.0</td>\n      <td>2976149</td>\n    </tr>\n    <tr>\n      <th>Kansas</th>\n      <td>316014</td>\n      <td>5125</td>\n      <td>305843.0</td>\n      <td>5046.0</td>\n      <td>2913314</td>\n    </tr>\n    <tr>\n      <th>Nebraska</th>\n      <td>223847</td>\n      <td>2258</td>\n      <td>0.0</td>\n      <td>0.0</td>\n      <td>1934408</td>\n    </tr>\n    <tr>\n      <th>Oregon</th>\n      <td>205154</td>\n      <td>2730</td>\n      <td>182144.0</td>\n      <td>20280.0</td>\n      <td>4217737</td>\n    </tr>\n    <tr>\n      <th>New Mexico</th>\n      <td>204271</td>\n      <td>4302</td>\n      <td>192338.0</td>\n      <td>7631.0</td>\n      <td>2096829</td>\n    </tr>\n    <tr>\n      <th>Idaho</th>\n      <td>193743</td>\n      <td>2116</td>\n      <td>113328.0</td>\n      <td>78299.0</td>\n      <td>1787065</td>\n    </tr>\n    <tr>\n      <th>West Virginia</th>\n      <td>163144</td>\n      <td>2853</td>\n      <td>157492.0</td>\n      <td>2799.0</td>\n      <td>1792147</td>\n    </tr>\n    <tr>\n      <th>Rhode Island</th>\n      <td>152273</td>\n      <td>2722</td>\n      <td>9358.0</td>\n      <td>140193.0</td>\n      <td>1059361</td>\n    </tr>\n    <tr>\n      <th>South Dakota</th>\n      <td>124356</td>\n      <td>2026</td>\n      <td>122155.0</td>\n      <td>175.0</td>\n      <td>884659</td>\n    </tr>\n    <tr>\n      <th>Montana</th>\n      <td>112850</td>\n      <td>1643</td>\n      <td>110629.0</td>\n      <td>578.0</td>\n      <td>1068778</td>\n    </tr>\n    <tr>\n      <th>North Dakota</th>\n      <td>110440</td>\n      <td>1520</td>\n      <td>108634.0</td>\n      <td>286.0</td>\n      <td>762062</td>\n    </tr>\n    <tr>\n      <th>Delaware</th>\n      <td>109379</td>\n      <td>1679</td>\n      <td>106061.0</td>\n      <td>1639.0</td>\n      <td>973764</td>\n    </tr>\n    <tr>\n      <th>New Hampshire</th>\n      <td>99143</td>\n      <td>1363</td>\n      <td>97500.0</td>\n      <td>280.0</td>\n      <td>1359711</td>\n    </tr>\n    <tr>\n      <th>Maine</th>\n      <td>68603</td>\n      <td>845</td>\n      <td>0.0</td>\n      <td>0.0</td>\n      <td>1344212</td>\n    </tr>\n    <tr>\n      <th>Alaska</th>\n      <td>67885</td>\n      <td>366</td>\n      <td>63292.0</td>\n      <td>4227.0</td>\n      <td>731545</td>\n    </tr>\n    <tr>\n      <th>Wyoming</th>\n      <td>61234</td>\n      <td>725</td>\n      <td>60072.0</td>\n      <td>437.0</td>\n      <td>578759</td>\n    </tr>\n    <tr>\n      <th>Hawaii</th>\n      <td>37067</td>\n      <td>506</td>\n      <td>0.0</td>\n      <td>0.0</td>\n      <td>1415872</td>\n    </tr>\n    <tr>\n      <th>Vermont</th>\n      <td>24331</td>\n      <td>256</td>\n      <td>23723.0</td>\n      <td>352.0</td>\n      <td>623989</td>\n    </tr>\n  </tbody>\n</table>\n</div>"
     },
     "execution_count": 4,
     "metadata": {},
     "output_type": "execute_result"
    }
   ],
   "source": [
    "# Import modules\n",
    "import pandas as pd\n",
    "import numpy as np\n",
    "\n",
    "# Create data frame\n",
    "data_frame = pd.read_csv('data/covid-data.csv')\n",
    "\n",
    "# Remove unnecessary columns\n",
    "columns_to_drop = ['Total Cases/1 mil population', 'Death/1 mil population', 'Total Cases.1', 'Tests/1 mil population']\n",
    "data_frame.drop(columns=columns_to_drop, inplace=True)\n",
    "\n",
    "# Set index to State\n",
    "data_frame = data_frame.set_index('State')\n",
    "\n",
    "# Remove commas from numerical data\n",
    "total_cases = data_frame['Total Cases'].str.replace(',', '')\n",
    "total_deaths = data_frame['Total Deaths'].str.replace(',', '')\n",
    "total_recovered = data_frame['Total Recovered'].str.replace(',', '')\n",
    "active_cases = data_frame['Active Cases'].str.replace(',', '')\n",
    "population = data_frame['Population'].str.replace(',', '')\n",
    "\n",
    "# Set column types to numeric\n",
    "data_frame['Total Cases'] = pd.to_numeric(total_cases)\n",
    "data_frame['Total Deaths'] = pd.to_numeric(total_deaths)\n",
    "data_frame['Total Recovered'] = pd.to_numeric(total_recovered)\n",
    "data_frame['Active Cases'] = pd.to_numeric(active_cases)\n",
    "data_frame['Population'] = pd.to_numeric(population)\n",
    "\n",
    "# Replace nan values with 0\n",
    "data_frame = data_frame.fillna(0)\n",
    "data_frame\n",
    "\n"
   ],
   "metadata": {
    "collapsed": false,
    "pycharm": {
     "name": "#%%\n"
    }
   }
  }
 ],
 "metadata": {
  "kernelspec": {
   "display_name": "Python 3",
   "language": "python",
   "name": "python3"
  },
  "language_info": {
   "codemirror_mode": {
    "name": "ipython",
    "version": 2
   },
   "file_extension": ".py",
   "mimetype": "text/x-python",
   "name": "python",
   "nbconvert_exporter": "python",
   "pygments_lexer": "ipython2",
   "version": "2.7.6"
  }
 },
 "nbformat": 4,
 "nbformat_minor": 0
}